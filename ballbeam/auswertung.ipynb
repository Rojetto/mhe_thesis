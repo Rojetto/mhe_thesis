{
 "cells": [
  {
   "cell_type": "heading",
   "metadata": {},
   "level": 1,
   "source": [
    "Allgemeine Deklarationen"
   ]
  },
  {
   "cell_type": "code",
   "execution_count": 1,
   "metadata": {
    "collapsed": true
   },
   "outputs": [],
   "source": [
    "%matplotlib qt\n",
    "\n",
    "from numpy import *\n",
    "from matplotlib.pyplot import *\n",
    "import pickle\n",
    "from matplotlib2tikz import save as tikz_save\n",
    "from quadcopter.util import *\n",
    "\n",
    "rcParams['figure.figsize'] = (10, 6)\n",
    "rcParams['figure.dpi'] = 160\n",
    "\n",
    "\n",
    "def to_deg(rad):\n",
    "    return rad / np.pi * 180.0\n",
    "\n",
    "\n",
    "def load_results(file_name):\n",
    "    complete_path = f\"C:\\\\dev\\\\mhe_pymoskito\\\\ballbeam\\\\results\\\\simulation\\\\{file_name}.pmr\"\n",
    "    with open(complete_path, \"rb\") as f:\n",
    "        return pickle.load(f)['results']\n",
    "    \n",
    "\n",
    "class ExperimentData:\n",
    "    def __init__(self, ex_id, raw):\n",
    "        self.ex_id = ex_id\n",
    "        self.raw = raw\n",
    "    \n",
    "    @property\n",
    "    def time(self):\n",
    "        return self.raw['time']\n",
    "   \n",
    "    @property \n",
    "    def solver(self):\n",
    "        return self.raw['Solver'].T\n",
    "    \n",
    "    @property\n",
    "    def observer(self):\n",
    "        return self.raw['Observer'][:, :4].T\n",
    "    \n",
    "    @property\n",
    "    def covariance(self):\n",
    "        return self.raw['Observer'][:, 4:].T\n",
    "    \n",
    "    @property\n",
    "    def measurement(self):\n",
    "        return self.raw['Model'].T\n",
    "    \n",
    "    \n",
    "def load_experiment(ex_id, resample_steps=None, start_time=None, end_time=None) -> ExperimentData:\n",
    "    raw = load_results(ex_id)\n",
    "    \n",
    "    start_index = None\n",
    "    end_index = None\n",
    "    \n",
    "    if start_time is not None:\n",
    "        start_index = time_to_index(start_time, raw['time'])\n",
    "        \n",
    "    if end_time is not None:\n",
    "        end_index = time_to_index(end_time, raw['time'])\n",
    "    \n",
    "    raw['time'] = raw['time'][start_index:end_index:resample_steps]\n",
    "    raw['Solver'] = raw['Solver'][start_index:end_index:resample_steps]\n",
    "    raw['Observer'] = raw['Observer'][start_index:end_index:resample_steps]\n",
    "    raw['Model'] = raw['Model'][start_index:end_index:resample_steps]\n",
    "    return ExperimentData(ex_id, raw)\n",
    "\n",
    "\n",
    "def plot_with_sd(t, measurement, real, sd, sigma_size=3):\n",
    "    lower_limit = real - sigma_size*sd\n",
    "    upper_limit = real + sigma_size*sd\n",
    "    \n",
    "    plot(t, measurement, color='blue')\n",
    "    plot(t, real, '--', color='green')\n",
    "    plot(t, lower_limit, color='red')\n",
    "    plot(t, upper_limit, color='red')\n",
    "\n",
    "\n",
    "time = load_results('ekf_with_noise')['time']\n",
    "ekf = load_results('ekf_with_noise')['Observer']\n",
    "ekf_real = load_results('ekf_with_noise')['Solver']\n",
    "ekf_meas = load_results('ekf_with_noise')['Model']\n",
    "slsqp = load_results('mhe_with_noise')['Observer']\n",
    "slsqp_real = load_results('mhe_with_noise')['Solver']\n",
    "slsqp_meas = load_results('mhe_with_noise')['Model']"
   ]
  },
  {
   "cell_type": "heading",
   "metadata": {},
   "level": 1,
   "source": [
    "Vergleichsplots für Experimente"
   ]
  },
  {
   "cell_type": "code",
   "execution_count": 3,
   "metadata": {},
   "outputs": [
    {
     "name": "stderr",
     "output_type": "stream",
     "text": [
      "C:\\dev\\Python\\studienarbeit\\lib\\site-packages\\matplotlib\\cbook\\deprecation.py:107: MatplotlibDeprecationWarning: Adding an axes using the same arguments as a previous axes currently reuses the earlier instance.  In a future version, a new instance will always be created and returned.  Meanwhile, this warning can be suppressed, and the future behavior ensured, by passing a unique label to each axes instance.\n  warnings.warn(message, mplDeprecation, stacklevel=1)\n"
     ]
    }
   ],
   "source": [
    "ex1 = load_experiment('511')\n",
    "ex2 = load_experiment('512')\n",
    "combined_plot = True\n",
    "\n",
    "figure()\n",
    "plot(ex1.time, ex1.measurement[0])\n",
    "\n",
    "if combined_plot:\n",
    "    figure(\"Combined plot\", figsize=(18, 10))\n",
    "\n",
    "for i in range(4):\n",
    "    if combined_plot:\n",
    "        subplot(421 + 2*i)\n",
    "    else:\n",
    "        figure(f\"State {i+1} observers\")\n",
    "        \n",
    "    plot(ex1.time, ex1.solver[i], '--', c=\"blue\")\n",
    "    plot(ex1.time, ex1.observer[i], c=\"red\")\n",
    "    plot(ex1.time, ex2.observer[i], c=\"green\")\n",
    "    legend([\"reference\", ex1.ex_id, ex2.ex_id])\n",
    "    title(f\"State {i+1} observers\")\n",
    "    grid()\n",
    "    \n",
    "    if combined_plot:\n",
    "        subplot(421 + 2*i + 1)\n",
    "    else:\n",
    "        figure(f\"State {i+1} errors\")\n",
    "        \n",
    "    plot(ex1.time, ex1.observer[i] - ex1.solver[i], c=\"red\")\n",
    "    plot(ex1.time, ex2.observer[i] - ex2.solver[i], c=\"green\")\n",
    "    mse1 = sum([e**2 for e in ex1.observer[i] - ex1.solver[i]]) / ex1.time.size\n",
    "    mse2 = sum([e**2 for e in ex2.observer[i] - ex2.solver[i]]) / ex2.time.size\n",
    "    legend([f\"{ex1.ex_id} - mse={mse1}\", f\"{ex2.ex_id} - mse={mse2}\"])\n",
    "    title(f\"State {i+1} errors\")\n",
    "    grid()\n",
    "\n",
    "show()"
   ]
  },
  {
   "cell_type": "heading",
   "metadata": {},
   "level": 1,
   "source": [
    "Vergleich verschiedene Abtastzeiten"
   ]
  },
  {
   "cell_type": "code",
   "execution_count": 64,
   "metadata": {},
   "outputs": [
    {
     "name": "stdout",
     "output_type": "stream",
     "text": [
      "=========================================================\nPlease add the following lines to your LaTeX preamble:\n\n\\usepackage[utf8]{inputenc}\n\\usepackage{fontspec} % This line only for XeLaTeX and LuaLaTeX\n\\usepackage{pgfplots}\n=========================================================\nHorizontal alignment will be ignored as no 'x tick label text width' has been passed in the 'extra' parameter\nHorizontal alignment will be ignored as no 'y tick label text width' has been passed in the 'extra' parameter\nHorizontal alignment will be ignored as no 'x tick label text width' has been passed in the 'extra' parameter\nHorizontal alignment will be ignored as no 'y tick label text width' has been passed in the 'extra' parameter\nHorizontal alignment will be ignored as no 'x tick label text width' has been passed in the 'extra' parameter\nHorizontal alignment will be ignored as no 'y tick label text width' has been passed in the 'extra' parameter\nHorizontal alignment will be ignored as no 'x tick label text width' has been passed in the 'extra' parameter\nHorizontal alignment will be ignored as no 'y tick label text width' has been passed in the 'extra' parameter\n"
     ]
    },
    {
     "name": "stdout",
     "output_type": "stream",
     "text": [
      "Horizontal alignment will be ignored as no 'x tick label text width' has been passed in the 'extra' parameter\nHorizontal alignment will be ignored as no 'y tick label text width' has been passed in the 'extra' parameter\nHorizontal alignment will be ignored as no 'x tick label text width' has been passed in the 'extra' parameter\nHorizontal alignment will be ignored as no 'y tick label text width' has been passed in the 'extra' parameter\n"
     ]
    }
   ],
   "source": [
    "ekf_exs = [load_experiment('511', 20), load_experiment('531', 20), load_experiment('541', 20)]\n",
    "mhe_exs = [load_experiment('512', 20), load_experiment('532', 20), load_experiment('542', 20)]\n",
    "ref = ekf_exs[0]\n",
    "rows = len(ekf_exs)\n",
    "\n",
    "figure()\n",
    "for i in range(rows):\n",
    "    subplot(rows, 2, 2*i + 1)\n",
    "    plot(ref.time, to_deg(ref.solver[2]), color='black')\n",
    "    plot(ref.time, to_deg(ekf_exs[i].observer[2]), color='r', linestyle='--')\n",
    "    plot(ref.time, to_deg(mhe_exs[i].observer[2]), color='g', linestyle='--')\n",
    "    xlabel('$t$ (s)')\n",
    "    ylabel('$\\\\theta$ (deg)')\n",
    "    grid()\n",
    "    \n",
    "    subplot(rows, 2, 2*i + 2)\n",
    "    plot(ref.time, to_deg(ekf_exs[i].observer[2] - ref.solver[2]), color='r', linestyle='--')\n",
    "    plot(ref.time, to_deg(mhe_exs[i].observer[2] - ref.solver[2]), color='g', linestyle='--')\n",
    "    xlabel('$t$ (s)')\n",
    "    ylabel('$\\\\Delta_\\\\theta$ (deg)')\n",
    "    grid()\n",
    "\n",
    "tikz_save('plots/step_width.tex', figureheight='\\\\figureheight', figurewidth='\\\\figurewidth')\n",
    "show()"
   ]
  },
  {
   "cell_type": "heading",
   "metadata": {},
   "level": 1,
   "source": [
    "Performance-Plot"
   ]
  },
  {
   "cell_type": "code",
   "execution_count": 73,
   "metadata": {},
   "outputs": [
    {
     "name": "stdout",
     "output_type": "stream",
     "text": [
      "=========================================================\nPlease add the following lines to your LaTeX preamble:\n\n\\usepackage[utf8]{inputenc}\n\\usepackage{fontspec} % This line only for XeLaTeX and LuaLaTeX\n\\usepackage{pgfplots}\n=========================================================\nHorizontal alignment will be ignored as no 'x tick label text width' has been passed in the 'extra' parameter\nHorizontal alignment will be ignored as no 'y tick label text width' has been passed in the 'extra' parameter\n"
     ]
    }
   ],
   "source": [
    "figure()\n",
    "plot([1, 4, 8], [7.73, 52.48, 145.78], color='b', marker='o')\n",
    "plot([1, 4, 8, 40], [2.37, 3.16, 3.56, 12.42], color='g', marker='o')\n",
    "axhline(5, color='black', linestyle='--')\n",
    "axhline(0.2, color='r', linestyle='--')\n",
    "xlabel('Horizontweite')\n",
    "ylabel('Rechenzeit für Beobachter (ms)')\n",
    "\n",
    "tikz_save('plots/performance.tex', figureheight='\\\\figureheight', figurewidth='\\\\figurewidth')\n",
    "show()"
   ]
  },
  {
   "cell_type": "heading",
   "metadata": {},
   "level": 1,
   "source": [
    "Plot mittlerer Initialfehler"
   ]
  },
  {
   "cell_type": "code",
   "execution_count": 23,
   "metadata": {},
   "outputs": [
    {
     "name": "stdout",
     "output_type": "stream",
     "text": [
      "=========================================================\nPlease add the following lines to your LaTeX preamble:\n\n\\usepackage[utf8]{inputenc}\n\\usepackage{fontspec} % This line only for XeLaTeX and LuaLaTeX\n\\usepackage{pgfplots}\n=========================================================\nHorizontal alignment will be ignored as no 'x tick label text width' has been passed in the 'extra' parameter\nHorizontal alignment will be ignored as no 'y tick label text width' has been passed in the 'extra' parameter\nHorizontal alignment will be ignored as no 'x tick label text width' has been passed in the 'extra' parameter\nHorizontal alignment will be ignored as no 'y tick label text width' has been passed in the 'extra' parameter\nHorizontal alignment will be ignored as no 'x tick label text width' has been passed in the 'extra' parameter\nHorizontal alignment will be ignored as no 'y tick label text width' has been passed in the 'extra' parameter\nHorizontal alignment will be ignored as no 'x tick label text width' has been passed in the 'extra' parameter\nHorizontal alignment will be ignored as no 'y tick label text width' has been passed in the 'extra' parameter\nHorizontal alignment will be ignored as no 'x tick label text width' has been passed in the 'extra' parameter\nHorizontal alignment will be ignored as no 'y tick label text width' has been passed in the 'extra' parameter\nHorizontal alignment will be ignored as no 'x tick label text width' has been passed in the 'extra' parameter\nHorizontal alignment will be ignored as no 'y tick label text width' has been passed in the 'extra' parameter\nHorizontal alignment will be ignored as no 'x tick label text width' has been passed in the 'extra' parameter"
     ]
    },
    {
     "name": "stdout",
     "output_type": "stream",
     "text": [
      "\nHorizontal alignment will be ignored as no 'y tick label text width' has been passed in the 'extra' parameter\nHorizontal alignment will be ignored as no 'x tick label text width' has been passed in the 'extra' parameter\nHorizontal alignment will be ignored as no 'y tick label text width' has been passed in the 'extra' parameter\n"
     ]
    }
   ],
   "source": [
    "ekf = load_experiment('421', end_time=8.0)\n",
    "mhe1 = load_experiment('422', end_time=8.0)\n",
    "mhe8 = load_experiment('424', end_time=8.0)\n",
    "ref = ekf\n",
    "\n",
    "figure()\n",
    "\n",
    "subplot(4, 2, 1)\n",
    "plot(ref.time, ref.solver[0], color='black')\n",
    "plot(ref.time, ekf.observer[0], color='red', linestyle='--')\n",
    "plot(ref.time, mhe1.observer[0], color='yellowgreen', linestyle='--')\n",
    "plot(ref.time, mhe8.observer[0], color='seagreen', linestyle='--')\n",
    "grid()\n",
    "xlabel('$t$ (s)')\n",
    "ylabel('$r$ (m)')\n",
    "\n",
    "subplot(4, 2, 2)\n",
    "plot(ref.time, ekf.observer[0] - ref.solver[0], color='red', linestyle='--')\n",
    "plot(ref.time, mhe1.observer[0] - ref.solver[0], color='yellowgreen', linestyle='--')\n",
    "plot(ref.time, mhe8.observer[0] - ref.solver[0], color='seagreen', linestyle='--')\n",
    "grid()\n",
    "xlabel('$t$ (s)')\n",
    "ylabel('$\\\\Delta_r$ (m)')\n",
    "\n",
    "subplot(4, 2, 3)\n",
    "plot(ref.time, ref.solver[1], color='black')\n",
    "plot(ref.time, ekf.observer[1], color='red', linestyle='--')\n",
    "plot(ref.time, mhe1.observer[1], color='yellowgreen', linestyle='--')\n",
    "plot(ref.time, mhe8.observer[1], color='seagreen', linestyle='--')\n",
    "grid()\n",
    "xlabel('$t$ (s)')\n",
    "ylabel('$v$ (m/s)')\n",
    "\n",
    "subplot(4, 2, 4)\n",
    "plot(ref.time, ekf.observer[1] - ref.solver[1], color='red', linestyle='--')\n",
    "plot(ref.time, mhe1.observer[1] - ref.solver[1], color='yellowgreen', linestyle='--')\n",
    "plot(ref.time, mhe8.observer[1] - ref.solver[1], color='seagreen', linestyle='--')\n",
    "grid()\n",
    "xlabel('$t$ (s)')\n",
    "ylabel('$\\\\Delta_v$ (m/s)')\n",
    "\n",
    "subplot(4, 2, 5)\n",
    "plot(ref.time, to_deg(ref.solver[2]), color='black')\n",
    "plot(ref.time, to_deg(ekf.observer[2]), color='red', linestyle='--')\n",
    "plot(ref.time, to_deg(mhe1.observer[2]), color='yellowgreen', linestyle='--')\n",
    "plot(ref.time, to_deg(mhe8.observer[2]), color='seagreen', linestyle='--')\n",
    "grid()\n",
    "xlabel('$t$ (s)')\n",
    "ylabel('$\\\\theta$ (deg)')\n",
    "\n",
    "subplot(4, 2, 6)\n",
    "plot(ref.time, to_deg(ekf.observer[2] - ref.solver[2]), color='red', linestyle='--')\n",
    "plot(ref.time, to_deg(mhe1.observer[2] - ref.solver[2]), color='yellowgreen', linestyle='--')\n",
    "plot(ref.time, to_deg(mhe8.observer[2] - ref.solver[2]), color='seagreen', linestyle='--')\n",
    "grid()\n",
    "xlabel('$t$ (s)')\n",
    "ylabel('$\\\\Delta_\\\\theta$ (deg)')\n",
    "\n",
    "subplot(4, 2, 7)\n",
    "plot(ref.time, to_deg(ref.solver[3]), color='black')\n",
    "plot(ref.time, to_deg(ekf.observer[3]), color='red', linestyle='--')\n",
    "plot(ref.time, to_deg(mhe1.observer[3]), color='yellowgreen', linestyle='--')\n",
    "plot(ref.time, to_deg(mhe8.observer[3]), color='seagreen', linestyle='--')\n",
    "grid()\n",
    "xlabel('$t$ (s)')\n",
    "ylabel('$\\\\omega$ (deg/s)')\n",
    "\n",
    "subplot(4, 2, 8)\n",
    "plot(ref.time, to_deg(ekf.observer[3] - ref.solver[3]), color='red', linestyle='--')\n",
    "plot(ref.time, to_deg(mhe1.observer[3] - ref.solver[3]), color='yellowgreen', linestyle='--')\n",
    "plot(ref.time, to_deg(mhe8.observer[3] - ref.solver[3]), color='seagreen', linestyle='--')\n",
    "grid()\n",
    "xlabel('$t$ (s)')\n",
    "ylabel('$\\\\Delta_{\\\\omega}$ (deg/s)')\n",
    "\n",
    "tikz_save('plots/medium_initial_error.tex', figureheight='\\\\figureheight', figurewidth='\\\\figurewidth')\n",
    "show()"
   ]
  },
  {
   "cell_type": "heading",
   "metadata": {},
   "level": 1,
   "source": [
    "Plot großer Initialfehler"
   ]
  },
  {
   "cell_type": "code",
   "execution_count": 22,
   "metadata": {},
   "outputs": [
    {
     "name": "stdout",
     "output_type": "stream",
     "text": [
      "=========================================================\nPlease add the following lines to your LaTeX preamble:\n\n\\usepackage[utf8]{inputenc}\n\\usepackage{fontspec} % This line only for XeLaTeX and LuaLaTeX\n\\usepackage{pgfplots}\n=========================================================\nHorizontal alignment will be ignored as no 'x tick label text width' has been passed in the 'extra' parameter\nHorizontal alignment will be ignored as no 'y tick label text width' has been passed in the 'extra' parameter\nHorizontal alignment will be ignored as no 'x tick label text width' has been passed in the 'extra' parameter\nHorizontal alignment will be ignored as no 'y tick label text width' has been passed in the 'extra' parameter\nHorizontal alignment will be ignored as no 'x tick label text width' has been passed in the 'extra' parameter\nHorizontal alignment will be ignored as no 'y tick label text width' has been passed in the 'extra' parameter\nHorizontal alignment will be ignored as no 'x tick label text width' has been passed in the 'extra' parameter\nHorizontal alignment will be ignored as no 'y tick label text width' has been passed in the 'extra' parameter\nHorizontal alignment will be ignored as no 'x tick label text width' has been passed in the 'extra' parameter\nHorizontal alignment will be ignored as no 'y tick label text width' has been passed in the 'extra' parameter\nHorizontal alignment will be ignored as no 'x tick label text width' has been passed in the 'extra' parameter\nHorizontal alignment will be ignored as no 'y tick label text width' has been passed in the 'extra' parameter\n"
     ]
    },
    {
     "name": "stdout",
     "output_type": "stream",
     "text": [
      "Horizontal alignment will be ignored as no 'x tick label text width' has been passed in the 'extra' parameter\nHorizontal alignment will be ignored as no 'y tick label text width' has been passed in the 'extra' parameter\nHorizontal alignment will be ignored as no 'x tick label text width' has been passed in the 'extra' parameter\nHorizontal alignment will be ignored as no 'y tick label text width' has been passed in the 'extra' parameter\n"
     ]
    }
   ],
   "source": [
    "ekf = load_experiment('431')\n",
    "mhe1 = load_experiment('432')\n",
    "mhe8 = load_experiment('434')\n",
    "ref = ekf\n",
    "\n",
    "figure()\n",
    "\n",
    "subplot(4, 2, 1)\n",
    "plot(ref.time, ref.solver[0], color='black')\n",
    "plot(ref.time, ekf.observer[0], color='red', linestyle='--')\n",
    "plot(ref.time, mhe1.observer[0], color='yellowgreen', linestyle='--')\n",
    "plot(ref.time, mhe8.observer[0], color='seagreen', linestyle='--')\n",
    "grid()\n",
    "xlabel('$t$ (s)')\n",
    "ylabel('$r$ (m)')\n",
    "\n",
    "subplot(4, 2, 2)\n",
    "plot(ref.time, ekf.observer[0] - ref.solver[0], color='red', linestyle='--')\n",
    "plot(ref.time, mhe1.observer[0] - ref.solver[0], color='yellowgreen', linestyle='--')\n",
    "plot(ref.time, mhe8.observer[0] - ref.solver[0], color='seagreen', linestyle='--')\n",
    "grid()\n",
    "xlabel('$t$ (s)')\n",
    "ylabel('$\\\\Delta_r$ (m)')\n",
    "\n",
    "subplot(4, 2, 3)\n",
    "plot(ref.time, ref.solver[1], color='black')\n",
    "plot(ref.time, ekf.observer[1], color='red', linestyle='--')\n",
    "plot(ref.time, mhe1.observer[1], color='yellowgreen', linestyle='--')\n",
    "plot(ref.time, mhe8.observer[1], color='seagreen', linestyle='--')\n",
    "grid()\n",
    "xlabel('$t$ (s)')\n",
    "ylabel('$v$ (m/s)')\n",
    "\n",
    "subplot(4, 2, 4)\n",
    "plot(ref.time, ekf.observer[1] - ref.solver[1], color='red', linestyle='--')\n",
    "plot(ref.time, mhe1.observer[1] - ref.solver[1], color='yellowgreen', linestyle='--')\n",
    "plot(ref.time, mhe8.observer[1] - ref.solver[1], color='seagreen', linestyle='--')\n",
    "grid()\n",
    "xlabel('$t$ (s)')\n",
    "ylabel('$\\\\Delta_v$ (m/s)')\n",
    "\n",
    "subplot(4, 2, 5)\n",
    "plot(ref.time, to_deg(ref.solver[2]), color='black')\n",
    "plot(ref.time, to_deg(ekf.observer[2]), color='red', linestyle='--')\n",
    "plot(ref.time, to_deg(mhe1.observer[2]), color='yellowgreen', linestyle='--')\n",
    "plot(ref.time, to_deg(mhe8.observer[2]), color='seagreen', linestyle='--')\n",
    "grid()\n",
    "xlabel('$t$ (s)')\n",
    "ylabel('$\\\\theta$ (deg)')\n",
    "\n",
    "subplot(4, 2, 6)\n",
    "plot(ref.time, to_deg(ekf.observer[2] - ref.solver[2]), color='red', linestyle='--')\n",
    "plot(ref.time, to_deg(mhe1.observer[2] - ref.solver[2]), color='yellowgreen', linestyle='--')\n",
    "plot(ref.time, to_deg(mhe8.observer[2] - ref.solver[2]), color='seagreen', linestyle='--')\n",
    "grid()\n",
    "xlabel('$t$ (s)')\n",
    "ylabel('$\\\\Delta_\\\\theta$ (deg)')\n",
    "\n",
    "subplot(4, 2, 7)\n",
    "plot(ref.time, to_deg(ref.solver[3]), color='black')\n",
    "plot(ref.time, to_deg(ekf.observer[3]), color='red', linestyle='--')\n",
    "plot(ref.time, to_deg(mhe1.observer[3]), color='yellowgreen', linestyle='--')\n",
    "plot(ref.time, to_deg(mhe8.observer[3]), color='seagreen', linestyle='--')\n",
    "grid()\n",
    "xlabel('$t$ (s)')\n",
    "ylabel('$\\\\omega$ (deg/s)')\n",
    "\n",
    "subplot(4, 2, 8)\n",
    "plot(ref.time, to_deg(ekf.observer[3] - ref.solver[3]), color='red', linestyle='--')\n",
    "plot(ref.time, to_deg(mhe1.observer[3] - ref.solver[3]), color='yellowgreen', linestyle='--')\n",
    "plot(ref.time, to_deg(mhe8.observer[3] - ref.solver[3]), color='seagreen', linestyle='--')\n",
    "grid()\n",
    "xlabel('$t$ (s)')\n",
    "ylabel('$\\\\Delta_{\\\\omega}$ (deg/s)')\n",
    "\n",
    "tikz_save('plots/large_initial_error.tex', figureheight='\\\\figureheight', figurewidth='\\\\figurewidth')\n",
    "show()"
   ]
  }
 ],
 "metadata": {
  "kernelspec": {
   "display_name": "Python 2",
   "language": "python",
   "name": "python2"
  },
  "language_info": {
   "codemirror_mode": {
    "name": "ipython",
    "version": 2
   },
   "file_extension": ".py",
   "mimetype": "text/x-python",
   "name": "python",
   "nbconvert_exporter": "python",
   "pygments_lexer": "ipython2",
   "version": "2.7.6"
  }
 },
 "nbformat": 4,
 "nbformat_minor": 0
}
