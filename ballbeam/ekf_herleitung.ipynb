{
 "cells": [
  {
   "cell_type": "code",
   "execution_count": 1,
   "metadata": {
    "collapsed": true
   },
   "outputs": [],
   "source": [
    "from sympy import *\n",
    "init_printing()"
   ]
  },
  {
   "cell_type": "code",
   "execution_count": 3,
   "metadata": {
    "collapsed": false
   },
   "outputs": [
    {
     "data": {
      "text/latex": [
       "$$\\left[\\begin{matrix}1 & h & 0 & 0\\\\B h x_{4}^{2} & 1 & - B G h \\cos{\\left (x_{3} \\right )} & 2 B h x_{1} x_{4}\\\\0 & 0 & 1 & h\\\\- \\frac{2 M h x_{1}}{\\left(J + J_{b} + M x_{1}^{2}\\right)^{2}} \\left(- G M x_{1} \\cos{\\left (x_{3} \\right )} - 2 M x_{1} x_{2} x_{4} + \\tau\\right) + \\frac{h}{J + J_{b} + M x_{1}^{2}} \\left(- G M \\cos{\\left (x_{3} \\right )} - 2 M x_{2} x_{4}\\right) & - \\frac{2 M h x_{1} x_{4}}{J + J_{b} + M x_{1}^{2}} & \\frac{G M h x_{1} \\sin{\\left (x_{3} \\right )}}{J + J_{b} + M x_{1}^{2}} & - \\frac{2 M h x_{1} x_{2}}{J + J_{b} + M x_{1}^{2}} + 1\\end{matrix}\\right]$$"
      ],
      "text/plain": [
       "⎡                                      1                                      \n⎢                                                                             \n⎢                                         2                                   \n⎢                                   B⋅h⋅x₄                                    \n⎢                                                                             \n⎢                                      0                                      \n⎢                                                                             \n⎢  2⋅M⋅h⋅x₁⋅(-G⋅M⋅x₁⋅cos(x₃) - 2⋅M⋅x₁⋅x₂⋅x₄ + τ)   h⋅(-G⋅M⋅cos(x₃) - 2⋅M⋅x₂⋅x₄\n⎢- ───────────────────────────────────────────── + ───────────────────────────\n⎢                                 2                                    2      \n⎢                ⎛              2⎞                       J + J_b + M⋅x₁       \n⎣                ⎝J + J_b + M⋅x₁ ⎠                                            \n\n          h                0                    0          ⎤\n                                                           ⎥\n                                                           ⎥\n          1          -B⋅G⋅h⋅cos(x₃)        2⋅B⋅h⋅x₁⋅x₄     ⎥\n                                                           ⎥\n          0                1                    h          ⎥\n                                                           ⎥\n)   -2⋅M⋅h⋅x₁⋅x₄    G⋅M⋅h⋅x₁⋅sin(x₃)      2⋅M⋅h⋅x₁⋅x₂      ⎥\n─  ───────────────  ────────────────  - ─────────────── + 1⎥\n                 2                2                   2    ⎥\n   J + J_b + M⋅x₁   J + J_b + M⋅x₁      J + J_b + M⋅x₁     ⎥\n                                                           ⎦"
      ]
     },
     "metadata": {},
     "output_type": "display_data"
    }
   ],
   "source": [
    "x1, x2, x3, x4, tau, h, B, G, M, J, Jb = symbols(\"x_1 x_2 x_3 x_4 tau h B G M J J_b\")\n",
    "\n",
    "x = Matrix([x1, x2, x3, x4])\n",
    "f_cont = Matrix([x2,\n",
    "                 B*(x1*x4**2-G*sin(x3)),\n",
    "                 x4,\n",
    "                 (tau - 2*M*x1*x2*x4-M*G*x1*cos(x3))/(M*x1**2+J+Jb)])\n",
    "f: Matrix = x + h*f_cont\n",
    "f.jacobian(x)"
   ]
  },
  {
   "cell_type": "code",
   "execution_count": null,
   "metadata": {},
   "outputs": [],
   "source": []
  }
 ],
 "metadata": {
  "kernelspec": {
   "display_name": "Python 2",
   "language": "python",
   "name": "python2"
  },
  "language_info": {
   "codemirror_mode": {
    "name": "ipython",
    "version": 2
   },
   "file_extension": ".py",
   "mimetype": "text/x-python",
   "name": "python",
   "nbconvert_exporter": "python",
   "pygments_lexer": "ipython2",
   "version": "2.7.6"
  }
 },
 "nbformat": 4,
 "nbformat_minor": 0
}
