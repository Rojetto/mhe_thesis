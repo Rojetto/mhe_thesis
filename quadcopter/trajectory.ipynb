{
 "cells": [
  {
   "cell_type": "code",
   "execution_count": 1,
   "metadata": {
    "collapsed": true
   },
   "outputs": [],
   "source": [
    "%matplotlib qt\n",
    "\n",
    "import numpy as np\n",
    "from matplotlib.pyplot import *\n",
    "from mpl_toolkits.mplot3d import Axes3D\n",
    "from matplotlib.patches import FancyArrowPatch\n",
    "from mpl_toolkits.mplot3d import proj3d\n",
    "import sympy as sp\n",
    "\n",
    "class Arrow3D(FancyArrowPatch):\n",
    "    def __init__(self, xs, ys, zs, *args, **kwargs):\n",
    "        FancyArrowPatch.__init__(self, (0,0), (0,0), *args, **kwargs)\n",
    "        self._verts3d = xs, ys, zs\n",
    "\n",
    "    def draw(self, renderer):\n",
    "        xs3d, ys3d, zs3d = self._verts3d\n",
    "        xs, ys, zs = proj3d.proj_transform(xs3d, ys3d, zs3d, renderer.M)\n",
    "        self.set_positions((xs[0],ys[0]),(xs[1],ys[1]))\n",
    "        FancyArrowPatch.draw(self, renderer)"
   ]
  },
  {
   "cell_type": "code",
   "execution_count": 11,
   "metadata": {},
   "outputs": [],
   "source": [
    "def lagrange_polynomial(x, points):\n",
    "    n = len(points)\n",
    "    expr = sp.S(0)\n",
    "    \n",
    "    for i, ipoint in enumerate(points):\n",
    "        numerator = sp.S(1)\n",
    "        for j, jpoint in enumerate(points):\n",
    "            if i != j:\n",
    "                numerator *= x - jpoint[0]\n",
    "                \n",
    "        denominator = numerator.subs(x, ipoint[0])\n",
    "        expr += numerator / denominator * ipoint[1]\n",
    "    \n",
    "    return sp.expand(expr)\n",
    "\n",
    "\n",
    "t = sp.symbols('t')\n",
    "points = [(0, 0),\n",
    "          (1, 1),\n",
    "          (2, 0),\n",
    "          (3, 0),\n",
    "          (4, 0),\n",
    "          (5, 0),\n",
    "          (6, 0)]\n",
    "poly = lagrange_polynomial(t, points)\n",
    "figure()\n",
    "min_t = min([point[0] for point in points])\n",
    "max_t = max([point[0] for point in points])\n",
    "ts = np.arange(min_t, max_t+0.05, 0.05)\n",
    "plot(ts, [sp.N(poly.subs(t, t_val)) for t_val in ts])\n",
    "grid()\n",
    "show()"
   ]
  },
  {
   "cell_type": "code",
   "execution_count": 47,
   "metadata": {},
   "outputs": [],
   "source": [
    "def trajectory():\n",
    "    t = sp.symbols('t')\n",
    "    x = sp.sin(sp.pi * t)\n",
    "    y = sp.cos(sp.pi * t)\n",
    "    z = - t\n",
    "    psi = - 2*sp.pi*t\n",
    "    theta = 0\n",
    "    phi = - sp.pi / 3\n",
    "    return t, x, y, z, phi, theta, psi\n",
    "\n",
    "def gen_traj_funcs(t, x, y, z, phi, theta, psi):\n",
    "    xp = sp.lambdify(t, x)\n",
    "    yp = sp.lambdify(t, y)\n",
    "    zp = sp.lambdify(t, z)\n",
    "    vx = sp.diff(x, t)\n",
    "    vy = sp.diff(y, t)\n",
    "    vz = sp.diff(z, t)\n",
    "    ax = sp.diff(vx, t)\n",
    "    ay = sp.diff(vy, t)\n",
    "    az = sp.diff(vz, t)\n",
    "    wx = sp.diff(phi, t) - sp.diff(psi, t)*sp.sin(theta)\n",
    "    wy = sp.diff(theta, t)*sp.cos(phi) + sp.diff(psi, t)*sp.cos(theta)*sp.sin(phi)\n",
    "    wz = -sp.diff(theta, t)*sp.sin(phi) + sp.diff(psi, t)*sp.cos(theta)*sp.cos(phi)\n",
    "    \n",
    "    def c(x_):\n",
    "        return sp.cos(x_)\n",
    "        \n",
    "    def s(x_):\n",
    "        return sp.sin(x_)\n",
    "    \n",
    "    R = sp.Matrix([[c(theta)*c(psi), c(theta)*s(psi), -s(theta)],\n",
    "         [s(phi)*s(theta)*c(psi)-c(phi)*s(psi), s(phi)*s(theta)*s(psi)+c(phi)*c(psi), s(phi)*c(theta)],\n",
    "         [c(phi)*s(theta)*c(psi)+s(phi)*s(psi), c(phi)*s(theta)*s(psi)-s(phi)*c(psi), c(phi)*c(theta)]])\n",
    "    \n",
    "    f = R*(sp.Matrix([[ax, ay, az]]).T + sp.Matrix([[0, 0, 9.81]]).T)\n",
    "    \n",
    "    phip = sp.lambdify(t, phi)\n",
    "    thetap = sp.lambdify(t, theta)\n",
    "    psip = sp.lambdify(t, psi)\n",
    "    \n",
    "    return xp, yp, zp, phip, thetap, psip, sp.lambdify(t, wx), sp.lambdify(t, wy), sp.lambdify(t, wz), sp.lambdify(t, f[0]), sp.lambdify(t, f[1]), sp.lambdify(t, f[2])\n",
    "\n",
    "\n",
    "t, x, y, z, psi, theta, phi = trajectory()\n",
    "x, y, z, phi, theta, psi, wx, wy, wz, fx, fy, fz = gen_traj_funcs(t, x, y, z, psi, theta, phi)"
   ]
  },
  {
   "cell_type": "code",
   "execution_count": 48,
   "metadata": {},
   "outputs": [
    {
     "data": {
      "text/plain": [
       "[<matplotlib.lines.Line2D at 0x17898299fd0>]"
      ]
     },
     "execution_count": 48,
     "metadata": {},
     "output_type": "execute_result"
    }
   ],
   "source": [
    "fig = figure()\n",
    "ax = fig.add_subplot(111, projection='3d')\n",
    "ax.set_aspect('equal')\n",
    "\n",
    "ts = np.arange(0, 5, 0.05)\n",
    "ax.plot([x(t) for t in ts], [y(t) for t in ts], [z(t) for t in ts])\n",
    "arrow = Arrow3D([0, 0.5], [0, 0.5], [1, 1.5], lw=3, mutation_scale=20, arrowstyle=\"-|>\", color=\"red\")\n",
    "ax.add_artist(arrow)\n",
    "\n",
    "show()\n",
    "\n",
    "fig2 = figure()\n",
    "plot(ts, [fx(t) for t in ts])\n",
    "plot(ts, [fy(t) for t in ts])\n",
    "plot(ts, [fz(t) for t in ts])"
   ]
  },
  {
   "cell_type": "code",
   "execution_count": null,
   "metadata": {},
   "outputs": [],
   "source": []
  }
 ],
 "metadata": {
  "kernelspec": {
   "display_name": "Python 2",
   "language": "python",
   "name": "python2"
  },
  "language_info": {
   "codemirror_mode": {
    "name": "ipython",
    "version": 2
   },
   "file_extension": ".py",
   "mimetype": "text/x-python",
   "name": "python",
   "nbconvert_exporter": "python",
   "pygments_lexer": "ipython2",
   "version": "2.7.6"
  }
 },
 "nbformat": 4,
 "nbformat_minor": 0
}
